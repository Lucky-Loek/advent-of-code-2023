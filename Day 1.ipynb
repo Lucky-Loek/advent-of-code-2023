{
 "cells": [
  {
   "cell_type": "markdown",
   "id": "f1786509-5ae4-40b1-972c-516bb4bc09a0",
   "metadata": {},
   "source": [
    "--- Day 1: Trebuchet?! ---\n",
    "\n",
    "Something is wrong with global snow production, and you\"ve been selected to take a look. The Elves have even given you a map; on it, they\"ve used stars to mark the top fifty locations that are likely to be having problems.\n",
    "\n",
    "You\"ve been doing this long enough to know that to restore snow operations, you need to check all fifty stars by December 25th.\n",
    "\n",
    "Collect stars by solving puzzles. Two puzzles will be made available on each day in the Advent calendar; the second puzzle is unlocked when you complete the first. Each puzzle grants one star. Good luck!\n",
    "\n",
    "You try to ask why they can\"t just use a weather machine (\"not powerful enough\") and where they\"re even sending you (\"the sky\") and why your map looks mostly blank (\"you sure ask a lot of questions\") and hang on did you just say the sky (\"of course, where do you think snow comes from\") when you realize that the Elves are already loading you into a trebuchet (\"please hold still, we need to strap you in\").\n",
    "\n",
    "As they\"re making the final adjustments, they discover that their calibration document (your puzzle input) has been amended by a very young Elf who was apparently just excited to show off her art skills. Consequently, the Elves are having trouble reading the values on the document.\n",
    "\n",
    "The newly-improved calibration document consists of lines of text; each line originally contained a specific calibration value that the Elves now need to recover. On each line, the calibration value can be found by combining the first digit and the last digit (in that order) to form a single two-digit number.\n",
    "\n",
    "For example:\n",
    "\n",
    "1abc2\n",
    "pqr3stu8vwx\n",
    "a1b2c3d4e5f\n",
    "treb7uchet\n",
    "\n",
    "In this example, the calibration values of these four lines are 12, 38, 15, and 77. Adding these together produces 142.\n",
    "\n",
    "Consider your entire calibration document. What is the sum of all of the calibration values?"
   ]
  },
  {
   "cell_type": "code",
   "execution_count": 22,
   "id": "d485cf89-ff7e-4ff8-ba20-50f68cd3becf",
   "metadata": {},
   "outputs": [
    {
     "name": "stdout",
     "output_type": "stream",
     "text": [
      "54561\n"
     ]
    }
   ],
   "source": [
    "with open(\"Day1_1.txt\", \"r\") as file:\n",
    "    lines = file.readlines()\n",
    "\n",
    "    sum = 0\n",
    "\n",
    "    for line in lines:\n",
    "        first = \"\"\n",
    "        last = \"\"\n",
    "        for character in line:\n",
    "            if character.isnumeric():\n",
    "                if first == \"\":\n",
    "                    first = character\n",
    "                    last = character\n",
    "                if character != last:\n",
    "                    last = character\n",
    "        sum += int(first + last)\n",
    "\n",
    "    print(sum)"
   ]
  },
  {
   "cell_type": "markdown",
   "id": "4a489eed-6869-44a5-9eb6-a5ef868fbb8b",
   "metadata": {},
   "source": [
    "Your calculation isn\"t quite right. It looks like some of the digits are actually spelled out with letters: one, two, three, four, five, six, seven, eight, and nine also count as valid \"digits\".\n",
    "\n",
    "Equipped with this new information, you now need to find the real first and last digit on each line. For example:\n",
    "\n",
    "two1nine\n",
    "eightwothree\n",
    "abcone2threexyz\n",
    "xtwone3four\n",
    "4nineeightseven2\n",
    "zoneight234\n",
    "7pqrstsixteen\n",
    "\n",
    "In this example, the calibration values are 29, 83, 13, 24, 42, 14, and 76. Adding these together produces 281.\n",
    "\n",
    "What is the sum of all of the calibration values?"
   ]
  },
  {
   "cell_type": "code",
   "execution_count": 61,
   "id": "216b6a38-c3e7-41cf-98e3-740912cf4291",
   "metadata": {},
   "outputs": [
    {
     "name": "stdout",
     "output_type": "stream",
     "text": [
      "54076\n"
     ]
    }
   ],
   "source": [
    "import re\n",
    "\n",
    "pattern = r'(1|2|3|4|5|6|7|8|9|one|two|three|four|five|six|seven|eight|nine)'\n",
    "\n",
    "number_mapping = {\n",
    "    \"one\": \"1\", \n",
    "    \"two\": \"2\", \n",
    "    \"three\": \"3\", \n",
    "    \"four\": \"4\",\n",
    "    \"five\": \"5\", \n",
    "    \"six\": \"6\", \n",
    "    \"seven\": \"7\", \n",
    "    \"eight\": \"8\", \n",
    "    \"nine\": \"9\"\n",
    "}\n",
    "\n",
    "with open(\"Day1_1.txt\", \"r\") as file:\n",
    "    lines = file.readlines()\n",
    "\n",
    "    sum = 0\n",
    "\n",
    "    for line in lines:\n",
    "        matches = re.findall(pattern, line)\n",
    "        result = [number_mapping.get(x) if not x.isnumeric() else x for x in matches]\n",
    "        sum += int(result[0] + result[-1])\n",
    "\n",
    "    print(sum)"
   ]
  },
  {
   "cell_type": "code",
   "execution_count": null,
   "id": "3017a55b-6cc3-4cf5-b57d-985720c5a6ec",
   "metadata": {},
   "outputs": [],
   "source": []
  }
 ],
 "metadata": {
  "kernelspec": {
   "display_name": "Python 3 (ipykernel)",
   "language": "python",
   "name": "python3"
  },
  "language_info": {
   "codemirror_mode": {
    "name": "ipython",
    "version": 3
   },
   "file_extension": ".py",
   "mimetype": "text/x-python",
   "name": "python",
   "nbconvert_exporter": "python",
   "pygments_lexer": "ipython3",
   "version": "3.11.2"
  }
 },
 "nbformat": 4,
 "nbformat_minor": 5
}
